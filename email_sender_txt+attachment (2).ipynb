{
 "cells": [
  {
   "cell_type": "markdown",
   "id": "78c4e311",
   "metadata": {},
   "source": [
    "# Import library"
   ]
  },
  {
   "cell_type": "code",
   "execution_count": 2,
   "id": "2255a6d8",
   "metadata": {},
   "outputs": [],
   "source": [
    "import csv\n",
    "from email.mime.multipart import MIMEMultipart\n",
    "from email.mime.text import MIMEText\n",
    "from email.mime.base import MIMEBase\n",
    "import smtplib\n",
    "from email import encoders"
   ]
  },
  {
   "cell_type": "markdown",
   "id": "aec15279",
   "metadata": {},
   "source": [
    "# Setting up the port + Creating the message"
   ]
  },
  {
   "cell_type": "code",
   "execution_count": 6,
   "id": "c5a59f93",
   "metadata": {},
   "outputs": [
    {
     "name": "stdout",
     "output_type": "stream",
     "text": [
      "Connecting to the server ...\n",
      "Connected to the server !\n",
      "\n",
      "Sending email to : josephmbota1@gmail.com\n",
      "Email successfully sent to: josephmbota1@gmail.com\n",
      "\n",
      "Connecting to the server ...\n",
      "Connected to the server !\n",
      "\n",
      "Sending email to : joseph.mbota2@gmail.com\n",
      "Email successfully sent to: joseph.mbota2@gmail.com\n",
      "\n",
      "Connecting to the server ...\n",
      "Connected to the server !\n",
      "\n",
      "Sending email to : jonesaitquoi@gmail.com\n",
      "Email successfully sent to: jonesaitquoi@gmail.com\n",
      "\n",
      "Connecting to the server ...\n",
      "Connected to the server !\n",
      "\n",
      "Sending email to : joseph.mbota@rokcet-school.eu\n",
      "Email successfully sent to: joseph.mbota@rokcet-school.eu\n",
      "\n"
     ]
    }
   ],
   "source": [
    "# Setting up the port\n",
    "smtp_port = 587\n",
    "smtp_server = \"smtp.gmail.com\"\n",
    "\n",
    "email_from =\"josephmbota1@gmail.com\"\n",
    "pswd = \"wzwmoihedngipdmm\"\n",
    "subject = 'Nouvel email pour un test'\n",
    "\n",
    "with open('email.csv','r') as csv_file:\n",
    "    csv_reader = csv.reader(csv_file)\n",
    "    for line in csv_reader :\n",
    "\n",
    "        \n",
    "        body = f\"\"\" \n",
    "        \n",
    "        Bonjour,\n",
    "        \n",
    "        Je viens de finir mon premier email automatisé avec des pj.\n",
    "        \n",
    "        Thxxx\n",
    "        \n",
    "        \"\"\"\n",
    "        email_list =line[0]\n",
    "\n",
    "        \n",
    "        #make a mime object\n",
    "        msg = MIMEMultipart()\n",
    "        msg['From'] = email_from\n",
    "        msg['To'] = email_list\n",
    "        msg['Subject']= subject\n",
    "        \n",
    "        #attaching the object to the email\n",
    "        msg.attach(MIMEText(body, 'plain'))\n",
    "        \n",
    "        \n",
    "        filename ='versionner.png'\n",
    "        \n",
    "        #open this file as a binary\n",
    "        \n",
    "        attachment = open(filename,'rb')\n",
    "        \n",
    "        #encode in base64\n",
    "        \n",
    "        attachment_package = MIMEBase('application', 'octet-stream')\n",
    "        attachment_package.set_payload((attachment).read())\n",
    "        encoders.encode_base64(attachment_package)\n",
    "        attachment_package.add_header('Content-Disposition',\"attachment; filename = \"+ filename)\n",
    "        msg.attach(attachment_package)\n",
    "        \n",
    "        text = msg.as_string()\n",
    "        \n",
    "        \n",
    "        print(\"Connecting to the server ...\")\n",
    "        TIE_server = smtplib.SMTP(smtp_server, smtp_port)\n",
    "        TIE_server.starttls()\n",
    "        TIE_server.login(email_from, pswd)\n",
    "        print(\"Connected to the server !\")\n",
    "        print()\n",
    "\n",
    "        print(f\"Sending email to : {email_list}\")\n",
    "        TIE_server.sendmail(email_from, email_list, text)\n",
    "        print(f\"Email successfully sent to: {email_list}\")\n",
    "        print()\n",
    "    \n",
    "\n",
    "        \n",
    "        "
   ]
  },
  {
   "cell_type": "code",
   "execution_count": null,
   "id": "6f0b5f6d",
   "metadata": {},
   "outputs": [],
   "source": []
  }
 ],
 "metadata": {
  "kernelspec": {
   "display_name": "Python 3 (ipykernel)",
   "language": "python",
   "name": "python3"
  },
  "language_info": {
   "codemirror_mode": {
    "name": "ipython",
    "version": 3
   },
   "file_extension": ".py",
   "mimetype": "text/x-python",
   "name": "python",
   "nbconvert_exporter": "python",
   "pygments_lexer": "ipython3",
   "version": "3.9.13"
  }
 },
 "nbformat": 4,
 "nbformat_minor": 5
}
