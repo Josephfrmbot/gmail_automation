{
 "cells": [
  {
   "cell_type": "markdown",
   "id": "78c4e311",
   "metadata": {},
   "source": [
    "# Import library"
   ]
  },
  {
   "cell_type": "code",
   "execution_count": 15,
   "id": "2255a6d8",
   "metadata": {},
   "outputs": [],
   "source": [
    "from email.mime.multipart import MIMEMultipart\n",
    "from email.mime.text import MIMEText\n",
    "from email.mime.base import MIMEBase\n",
    "import smtplib\n",
    "from email import encoders"
   ]
  },
  {
   "cell_type": "markdown",
   "id": "1e3cd53d",
   "metadata": {},
   "source": [
    "# Setting up the port & email address"
   ]
  },
  {
   "cell_type": "code",
   "execution_count": 16,
   "id": "953deaca",
   "metadata": {},
   "outputs": [],
   "source": [
    "smtp_port = 587\n",
    "smtp_server = \"smtp.gmail.com\"\n",
    "\n",
    "email_from =\"josephmbota1@gmail.com\"\n",
    "email_list =[\"josephmbota1@gmail.com\",\"joseph.mbota2@gmail.com\",\"joseph.mbota@rocket-school.eu\"]\n",
    "pswd = \"wzwmoihedngipdmm\""
   ]
  },
  {
   "cell_type": "markdown",
   "id": "aec15279",
   "metadata": {},
   "source": [
    "# Creating message"
   ]
  },
  {
   "cell_type": "code",
   "execution_count": 31,
   "id": "79173567",
   "metadata": {},
   "outputs": [],
   "source": [
    "subject = 'Nouvel email pour un test'\n",
    "def send_emails(email_list):\n",
    "    for person in email_list :\n",
    "        body = f\"\"\"\n",
    "        \n",
    "        Bonjour,\n",
    "        \n",
    "        Je ne sais pas encore quoi marquer mais je promets de mener à bien mon test\n",
    "        \n",
    "        \"\"\"\n",
    "        \n",
    "        # make a mime object to define parts of the email \n",
    "        msg = MIMEMultipart()\n",
    "        msg['From'] = email_from\n",
    "        msg['To'] = person\n",
    "        msg['subject'] = subject\n",
    "        \n",
    "        # attach the body\n",
    "        \n",
    "        msg.attach(MIMEText(body, 'plain'))\n",
    "        \n",
    "        # define the attachment\n",
    "        \n",
    "        filename= \"versionner.png\"\n",
    "        \n",
    "        # open the file in Python\n",
    "        attachment =open(filename,\"rb\")\n",
    "        \n",
    "        attachment_package= MIMEBase('application','octet-stream')\n",
    " # Encoding base 64       \n",
    "        attachment_package.set_payload((attachment).read())\n",
    "        encoders.encode_base64(attachment_package)\n",
    "        attachment_package.add_header('Content-Disposition'+\"attachment; filename =\"+ filename)\n",
    "        msg.attach(attachment_package)\n",
    "\n",
    "        text = msg.as_string()\n",
    "        \n",
    "    try :\n",
    "        print(\"Connecting to the server ...\")\n",
    "        TIE_server = smtplib.SMTP(smtp_server, smtp_port)\n",
    "        TIE_server.starttls()\n",
    "        TIE_server.login(email_from, pswd)\n",
    "        print(\"Connected to the server !\")\n",
    "\n",
    "        print(f\"Sending email to -{person}\")\n",
    "        TIE_server.sendmail(email_from, person, text)\n",
    "        print(f\"Email successfully sent to -{person}\")\n",
    "        print()\n",
    "\n",
    "    finally:\n",
    "        TIE_server.quit()\n"
   ]
  },
  {
   "cell_type": "markdown",
   "id": "fba10a4d",
   "metadata": {},
   "source": []
  },
  {
   "cell_type": "code",
   "execution_count": 21,
   "id": "4ad997ba",
   "metadata": {},
   "outputs": [
    {
     "ename": "NameError",
     "evalue": "name 'attachment' is not defined",
     "output_type": "error",
     "traceback": [
      "\u001b[1;31m---------------------------------------------------------------------------\u001b[0m",
      "\u001b[1;31mNameError\u001b[0m                                 Traceback (most recent call last)",
      "\u001b[1;32m~\\AppData\\Local\\Temp\\ipykernel_15704\\3930502695.py\u001b[0m in \u001b[0;36m<module>\u001b[1;34m\u001b[0m\n\u001b[0;32m      1\u001b[0m \u001b[0mattachment_package\u001b[0m\u001b[1;33m=\u001b[0m \u001b[0mMIMEBase\u001b[0m\u001b[1;33m(\u001b[0m\u001b[1;34m'application'\u001b[0m\u001b[1;33m,\u001b[0m\u001b[1;34m'octet-stream'\u001b[0m\u001b[1;33m)\u001b[0m\u001b[1;33m\u001b[0m\u001b[1;33m\u001b[0m\u001b[0m\n\u001b[1;32m----> 2\u001b[1;33m \u001b[0mattachment_package\u001b[0m\u001b[1;33m.\u001b[0m\u001b[0mset_payload\u001b[0m\u001b[1;33m(\u001b[0m\u001b[1;33m(\u001b[0m\u001b[0mattachment\u001b[0m\u001b[1;33m)\u001b[0m\u001b[1;33m.\u001b[0m\u001b[0mread\u001b[0m\u001b[1;33m(\u001b[0m\u001b[1;33m)\u001b[0m\u001b[1;33m)\u001b[0m\u001b[1;33m\u001b[0m\u001b[1;33m\u001b[0m\u001b[0m\n\u001b[0m\u001b[0;32m      3\u001b[0m \u001b[0mencoders\u001b[0m\u001b[1;33m.\u001b[0m\u001b[0mencode_base64\u001b[0m\u001b[1;33m(\u001b[0m\u001b[0mattachment_package\u001b[0m\u001b[1;33m)\u001b[0m\u001b[1;33m\u001b[0m\u001b[1;33m\u001b[0m\u001b[0m\n\u001b[0;32m      4\u001b[0m \u001b[0mattachment_package\u001b[0m\u001b[1;33m.\u001b[0m\u001b[0madd_header\u001b[0m\u001b[1;33m(\u001b[0m\u001b[1;34m'Content-Disposition'\u001b[0m\u001b[1;33m+\u001b[0m\u001b[1;34m\"attachment; filename =\"\u001b[0m\u001b[1;33m+\u001b[0m \u001b[0mfilename\u001b[0m\u001b[1;33m)\u001b[0m\u001b[1;33m\u001b[0m\u001b[1;33m\u001b[0m\u001b[0m\n\u001b[0;32m      5\u001b[0m \u001b[0mmsg\u001b[0m\u001b[1;33m.\u001b[0m\u001b[0mattach\u001b[0m\u001b[1;33m(\u001b[0m\u001b[0mattachment_package\u001b[0m\u001b[1;33m)\u001b[0m\u001b[1;33m\u001b[0m\u001b[1;33m\u001b[0m\u001b[0m\n",
      "\u001b[1;31mNameError\u001b[0m: name 'attachment' is not defined"
     ]
    }
   ],
   "source": []
  },
  {
   "cell_type": "markdown",
   "id": "1ed46e04",
   "metadata": {},
   "source": [
    "# Conncting server"
   ]
  },
  {
   "cell_type": "code",
   "execution_count": 24,
   "id": "55723ac0",
   "metadata": {},
   "outputs": [
    {
     "name": "stdout",
     "output_type": "stream",
     "text": [
      "Connecting to the server ...\n",
      "name 'simple_email_context' is not defined\n"
     ]
    }
   ],
   "source": []
  },
  {
   "cell_type": "code",
   "execution_count": null,
   "id": "6f0b5f6d",
   "metadata": {},
   "outputs": [],
   "source": []
  }
 ],
 "metadata": {
  "kernelspec": {
   "display_name": "Python 3 (ipykernel)",
   "language": "python",
   "name": "python3"
  },
  "language_info": {
   "codemirror_mode": {
    "name": "ipython",
    "version": 3
   },
   "file_extension": ".py",
   "mimetype": "text/x-python",
   "name": "python",
   "nbconvert_exporter": "python",
   "pygments_lexer": "ipython3",
   "version": "3.9.13"
  }
 },
 "nbformat": 4,
 "nbformat_minor": 5
}
