{
 "cells": [
  {
   "cell_type": "markdown",
   "id": "93e77779",
   "metadata": {},
   "source": [
    "# Import libraries"
   ]
  },
  {
   "cell_type": "code",
   "execution_count": 1,
   "id": "0413f393",
   "metadata": {},
   "outputs": [],
   "source": [
    "import ssl\n",
    "import smtplib"
   ]
  },
  {
   "cell_type": "markdown",
   "id": "1406f904",
   "metadata": {},
   "source": [
    "# Setting up port and servers"
   ]
  },
  {
   "cell_type": "code",
   "execution_count": 2,
   "id": "35f3be0d",
   "metadata": {},
   "outputs": [],
   "source": [
    "smtp_port = 587\n",
    "smtp_server = \"smtp.gmail.com\"\n",
    "email_from = \"josephmbota1@gmail.com\"\n",
    "email_to = \"josephmbota1@gmail.com\"\n",
    "psw = \"wzwmoihedngipdmm\""
   ]
  },
  {
   "cell_type": "markdown",
   "id": "9e164e1c",
   "metadata": {},
   "source": [
    "# Message"
   ]
  },
  {
   "cell_type": "code",
   "execution_count": 3,
   "id": "4333525c",
   "metadata": {},
   "outputs": [],
   "source": [
    "msg = \"Mon dieu, je n'en peux plus\""
   ]
  },
  {
   "cell_type": "markdown",
   "id": "4e2b1f03",
   "metadata": {},
   "source": [
    "# Creating the object"
   ]
  },
  {
   "cell_type": "code",
   "execution_count": 4,
   "id": "39cf69ba",
   "metadata": {},
   "outputs": [],
   "source": [
    "simple_email_context = ssl.create_default_context()"
   ]
  },
  {
   "cell_type": "markdown",
   "id": "676bad64",
   "metadata": {},
   "source": [
    "# Connecting to the server"
   ]
  },
  {
   "cell_type": "code",
   "execution_count": 5,
   "id": "81124ebc",
   "metadata": {},
   "outputs": [
    {
     "name": "stdout",
     "output_type": "stream",
     "text": [
      "Connecting to the server ...\n",
      "Connected to the server !\n",
      "\n",
      "Sending email to -josephmbota1@gmail.com\n",
      "Email successfully sent to -josephmbota1@gmail.com\n"
     ]
    }
   ],
   "source": [
    "try :\n",
    "    print(\"Connecting to the server ...\")\n",
    "    TIE_server = smtplib.SMTP(smtp_server, smtp_port)\n",
    "    TIE_server.starttls(context= simple_email_context)\n",
    "    TIE_server.login(email_from, psw)\n",
    "    print(\"Connected to the server !\")\n",
    "    \n",
    "    print()\n",
    "    print(f\"Sending email to -{email_to}\")\n",
    "    TIE_server.sendmail(email_from, email_to, msg)\n",
    "    print(f\"Email successfully sent to -{email_to}\")\n",
    "    \n",
    "except Exception as e:\n",
    "    print(e)\n",
    "    \n",
    "finally:\n",
    "    TIE_server.quit()"
   ]
  },
  {
   "cell_type": "code",
   "execution_count": null,
   "id": "c66c1e31",
   "metadata": {},
   "outputs": [],
   "source": []
  },
  {
   "cell_type": "code",
   "execution_count": null,
   "id": "ebb3b14e",
   "metadata": {},
   "outputs": [],
   "source": []
  }
 ],
 "metadata": {
  "kernelspec": {
   "display_name": "Python 3 (ipykernel)",
   "language": "python",
   "name": "python3"
  },
  "language_info": {
   "codemirror_mode": {
    "name": "ipython",
    "version": 3
   },
   "file_extension": ".py",
   "mimetype": "text/x-python",
   "name": "python",
   "nbconvert_exporter": "python",
   "pygments_lexer": "ipython3",
   "version": "3.9.13"
  }
 },
 "nbformat": 4,
 "nbformat_minor": 5
}
