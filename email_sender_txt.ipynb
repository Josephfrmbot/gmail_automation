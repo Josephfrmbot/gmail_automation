{
 "cells": [
  {
   "cell_type": "markdown",
   "id": "93e77779",
   "metadata": {},
   "source": [
    "# import libraries"
   ]
  },
  {
   "cell_type": "code",
   "execution_count": 4,
   "id": "0413f393",
   "metadata": {},
   "outputs": [],
   "source": [
    "import ssl\n",
    "import smtplib\n"
   ]
  },
  {
   "cell_type": "markdown",
   "id": "1406f904",
   "metadata": {},
   "source": [
    "# Setting up port and servers"
   ]
  },
  {
   "cell_type": "code",
   "execution_count": 5,
   "id": "35f3be0d",
   "metadata": {},
   "outputs": [],
   "source": [
    "smtp_port = 587\n",
    "smtp_server = \"smtp.gmail.com\""
   ]
  },
  {
   "cell_type": "markdown",
   "id": "9e164e1c",
   "metadata": {},
   "source": [
    "# Message"
   ]
  },
  {
   "cell_type": "code",
   "execution_count": null,
   "id": "4333525c",
   "metadata": {},
   "outputs": [],
   "source": [
    "msg = \"Mon dieu, je n'en peux plus\""
   ]
  }
 ],
 "metadata": {
  "kernelspec": {
   "display_name": "Python 3 (ipykernel)",
   "language": "python",
   "name": "python3"
  },
  "language_info": {
   "codemirror_mode": {
    "name": "ipython",
    "version": 3
   },
   "file_extension": ".py",
   "mimetype": "text/x-python",
   "name": "python",
   "nbconvert_exporter": "python",
   "pygments_lexer": "ipython3",
   "version": "3.9.13"
  }
 },
 "nbformat": 4,
 "nbformat_minor": 5
}
